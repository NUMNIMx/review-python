{
 "cells": [
  {
   "cell_type": "code",
   "execution_count": 8,
   "metadata": {},
   "outputs": [
    {
     "name": "stdout",
     "output_type": "stream",
     "text": [
      "yourmom\tfat\n"
     ]
    }
   ],
   "source": [
    "#\\t เว้นช่องว่าง\n",
    "print('yourmom\\t'+'fat')"
   ]
  },
  {
   "cell_type": "code",
   "execution_count": 9,
   "metadata": {},
   "outputs": [
    {
     "name": "stdout",
     "output_type": "stream",
     "text": [
      "yourmom\n",
      "fat\n"
     ]
    }
   ],
   "source": [
    "#\\n ขึ้นบรรทัดใหม่\n",
    "print('yourmom\\n'+'fat')"
   ]
  },
  {
   "cell_type": "code",
   "execution_count": 16,
   "metadata": {},
   "outputs": [
    {
     "name": "stdout",
     "output_type": "stream",
     "text": [
      "<class 'int'>\n",
      "<class 'float'>\n",
      "<class 'bool'>\n"
     ]
    }
   ],
   "source": [
    "#เช็คชนิดตัวแปร\n",
    "x = 20\n",
    "y = 3.45\n",
    "z = True\n",
    "print(type(x))\n",
    "print(type(y))\n",
    "print(type(z))"
   ]
  },
  {
   "cell_type": "code",
   "execution_count": 17,
   "metadata": {},
   "outputs": [
    {
     "name": "stdout",
     "output_type": "stream",
     "text": [
      "your name is :  Peem\n"
     ]
    }
   ],
   "source": [
    "#input from keybpard\n",
    "x = input('pls enter your name : ')\n",
    "print('your name is : ',(x))"
   ]
  },
  {
   "cell_type": "code",
   "execution_count": 19,
   "metadata": {},
   "outputs": [
    {
     "name": "stdout",
     "output_type": "stream",
     "text": [
      "result =  20\n"
     ]
    }
   ],
   "source": [
    "#โปรแกรมบวกเบื้องต้น\n",
    "x = int(input('pls enter first num : '))\n",
    "y = int(input('pls enter next num : '))\n",
    "print('result = ',x+y)"
   ]
  },
  {
   "cell_type": "code",
   "execution_count": 26,
   "metadata": {},
   "outputs": [
    {
     "name": "stdout",
     "output_type": "stream",
     "text": [
      "ผลบวก =  35\n",
      "ผลลบ =  5\n",
      "ผลคูณ =  300\n",
      "ยกกำลัง =  32768000000000000000\n",
      "ผลหาร =  1.3333333333333333\n",
      "หารปัดเศษ =  1\n",
      "หารเอาเศษ  =  5\n"
     ]
    }
   ],
   "source": [
    "#operator and operand\n",
    "#ตัวดำเนินการ ร่วมกับ ตัวที่ถูกกำเนินการ\n",
    "x = 20\n",
    "y = 15\n",
    "print('ผลบวก = ', x+y)\n",
    "print('ผลลบ = ', x-y)\n",
    "print('ผลคูณ = ', x*y)\n",
    "#ยกกำลัง\n",
    "print('ยกกำลัง = ',x**y)\n",
    "print('ผลหาร = ', x/y)\n",
    "#หารปัดเศษ\n",
    "print('หารปัดเศษ = ', x//y)\n",
    "#หารเอาเศษ\n",
    "print('หารเอาเศษ  = ',x%y)"
   ]
  },
  {
   "cell_type": "code",
   "execution_count": 28,
   "metadata": {},
   "outputs": [
    {
     "name": "stdout",
     "output_type": "stream",
     "text": [
      "ก่อนเพิ่มค่า =  10\n",
      "หลังเพิ่มค่า =  20\n"
     ]
    }
   ],
   "source": [
    "#Ex.01\n",
    "x = 10\n",
    "print('ก่อนเพิ่มค่า = ',x)\n",
    "x += 10\n",
    "print('หลังเพิ่มค่า = ',x)"
   ]
  },
  {
   "cell_type": "code",
   "execution_count": 35,
   "metadata": {},
   "outputs": [
    {
     "name": "stdout",
     "output_type": "stream",
     "text": [
      "reslut is 24.97398543184183\n"
     ]
    }
   ],
   "source": [
    "#Ex.02 โปรแกรมคำนวณค่า BMI\n",
    "weight = int(input('Enter your weight : '))\n",
    "high = int(input('Enter your high (cm) : '))/100\n",
    "bmi = weight/(high**2)\n",
    "print('reslut is',bmi)"
   ]
  }
 ],
 "metadata": {
  "kernelspec": {
   "display_name": "Python 3",
   "language": "python",
   "name": "python3"
  },
  "language_info": {
   "codemirror_mode": {
    "name": "ipython",
    "version": 3
   },
   "file_extension": ".py",
   "mimetype": "text/x-python",
   "name": "python",
   "nbconvert_exporter": "python",
   "pygments_lexer": "ipython3",
   "version": "3.10.11"
  }
 },
 "nbformat": 4,
 "nbformat_minor": 2
}
