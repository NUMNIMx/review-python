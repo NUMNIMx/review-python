{
 "cells": [
  {
   "cell_type": "code",
   "execution_count": null,
   "metadata": {},
   "outputs": [],
   "source": [
    "print('i naa hee')"
   ]
  },
  {
   "cell_type": "code",
   "execution_count": 2,
   "metadata": {},
   "outputs": [
    {
     "name": "stdout",
     "output_type": "stream",
     "text": [
      "yourmom\tfat\n"
     ]
    }
   ],
   "source": [
    "#\\t เว้นช่องว่าง\n",
    "print('yourmom\\t'+'fat')"
   ]
  },
  {
   "cell_type": "code",
   "execution_count": 9,
   "metadata": {},
   "outputs": [
    {
     "name": "stdout",
     "output_type": "stream",
     "text": [
      "yourmom\n",
      "fat\n"
     ]
    }
   ],
   "source": [
    "#\\n ขึ้นบรรทัดใหม่\n",
    "print('yourmom\\n'+'fat')"
   ]
  },
  {
   "cell_type": "code",
   "execution_count": 16,
   "metadata": {},
   "outputs": [
    {
     "name": "stdout",
     "output_type": "stream",
     "text": [
      "<class 'int'>\n",
      "<class 'float'>\n",
      "<class 'bool'>\n"
     ]
    }
   ],
   "source": [
    "#เช็คชนิดตัวแปร\n",
    "x = 20\n",
    "y = 3.45\n",
    "z = True\n",
    "print(type(x))\n",
    "print(type(y))\n",
    "print(type(z))"
   ]
  },
  {
   "cell_type": "code",
   "execution_count": 17,
   "metadata": {},
   "outputs": [
    {
     "name": "stdout",
     "output_type": "stream",
     "text": [
      "your name is :  Peem\n"
     ]
    }
   ],
   "source": [
    "#input from keybpard\n",
    "x = input('pls enter your name : ')\n",
    "print('your name is : ',(x))"
   ]
  },
  {
   "cell_type": "code",
   "execution_count": 19,
   "metadata": {},
   "outputs": [
    {
     "name": "stdout",
     "output_type": "stream",
     "text": [
      "result =  20\n"
     ]
    }
   ],
   "source": [
    "#โปรแกรมบวกเบื้องต้น\n",
    "x = int(input('pls enter first num : '))\n",
    "y = int(input('pls enter next num : '))\n",
    "print('result = ',x+y)"
   ]
  },
  {
   "cell_type": "code",
   "execution_count": 26,
   "metadata": {},
   "outputs": [
    {
     "name": "stdout",
     "output_type": "stream",
     "text": [
      "ผลบวก =  35\n",
      "ผลลบ =  5\n",
      "ผลคูณ =  300\n",
      "ยกกำลัง =  32768000000000000000\n",
      "ผลหาร =  1.3333333333333333\n",
      "หารปัดเศษ =  1\n",
      "หารเอาเศษ  =  5\n"
     ]
    }
   ],
   "source": [
    "#operator and operand\n",
    "#ตัวดำเนินการ ร่วมกับ ตัวที่ถูกกำเนินการ\n",
    "x = 20\n",
    "y = 15\n",
    "print('ผลบวก = ', x+y)\n",
    "print('ผลลบ = ', x-y)\n",
    "print('ผลคูณ = ', x*y)\n",
    "#ยกกำลัง\n",
    "print('ยกกำลัง = ',x**y)\n",
    "print('ผลหาร = ', x/y)\n",
    "#หารปัดเศษ\n",
    "print('หารปัดเศษ = ', x//y)\n",
    "#หารเอาเศษ\n",
    "print('หารเอาเศษ  = ',x%y)"
   ]
  },
  {
   "cell_type": "code",
   "execution_count": 28,
   "metadata": {},
   "outputs": [
    {
     "name": "stdout",
     "output_type": "stream",
     "text": [
      "ก่อนเพิ่มค่า =  10\n",
      "หลังเพิ่มค่า =  20\n"
     ]
    }
   ],
   "source": [
    "#Ex.01\n",
    "x = 10\n",
    "print('ก่อนเพิ่มค่า = ',x)\n",
    "x += 10\n",
    "print('หลังเพิ่มค่า = ',x)"
   ]
  },
  {
   "cell_type": "code",
   "execution_count": 35,
   "metadata": {},
   "outputs": [
    {
     "name": "stdout",
     "output_type": "stream",
     "text": [
      "reslut is 24.97398543184183\n"
     ]
    }
   ],
   "source": [
    "#Ex.02 โปรแกรมคำนวณค่า BMI\n",
    "weight = int(input('Enter your weight : '))\n",
    "high = int(input('Enter your high (cm) : '))/100\n",
    "bmi = weight/(high**2)\n",
    "print('reslut is',bmi)"
   ]
  },
  {
   "cell_type": "code",
   "execution_count": 8,
   "metadata": {},
   "outputs": [
    {
     "name": "stdout",
     "output_type": "stream",
     "text": [
      "คำนำหน้าเป็นนายหรือนางสาว\n"
     ]
    }
   ],
   "source": [
    "#if else\n",
    "age = int(input('ป้อนอายุของคุณ : '))\n",
    "if age >= 15:\n",
    "    print('คำนำหน้าเป็นนายหรือนางสาว')\n",
    "else:\n",
    "    print('คำนำหน้าเด็กหญิงเด็กชาย')\n"
   ]
  },
  {
   "cell_type": "code",
   "execution_count": 11,
   "metadata": {},
   "outputs": [
    {
     "name": "stdout",
     "output_type": "stream",
     "text": [
      "เด็กโข่ง\n"
     ]
    }
   ],
   "source": [
    "age = int(input('ป้อนอายุของคุณ : '))\n",
    "if age >=15 and age <=20:\n",
    "    print('วัยรุ่น')\n",
    "elif age >= 20 and age <=29:\n",
    "    print('วัยหนุ่มสาว')\n",
    "elif age >= 30 and age <= 49:\n",
    "    print('วัยผู้ใหญ่')\n",
    "elif age >= 50:\n",
    "    print('อีแก่')\n",
    "else:\n",
    "    print('เด็กโข่ง')"
   ]
  },
  {
   "cell_type": "code",
   "execution_count": 12,
   "metadata": {},
   "outputs": [
    {
     "name": "stdout",
     "output_type": "stream",
     "text": [
      "วัยรุ่น\n"
     ]
    }
   ],
   "source": [
    "#ternary operator การย่อรูปคำสั่ง\n",
    "'''\n",
    "age = int(input('ป้อนอายุของตุณ : '))\n",
    "if age >= 15 and age <= 25:\n",
    "    print('วัยรุ่น')\n",
    "else:\n",
    "    print('วัยเเด็ก')\n",
    "'''\n",
    "age = int(input('ป้อนอายุของคุณ : '))\n",
    "print('วัยรุ่น') if age >= 15 and age <= 15 else print('วัยเด็ก')"
   ]
  },
  {
   "cell_type": "code",
   "execution_count": 26,
   "metadata": {},
   "outputs": [
    {
     "name": "stdout",
     "output_type": "stream",
     "text": [
      "ม.3\n"
     ]
    }
   ],
   "source": [
    "#if ซ้อน if\n",
    "age = int(input('ป้อนอายุของคุณ : '))\n",
    "if age <= 15:\n",
    "    if age == 15:\n",
    "        print('ม.3')\n",
    "    elif age == 14:\n",
    "        print('ม.2')\n",
    "    elif age == 13:\n",
    "        print('ม.1')\n",
    "    else:\n",
    "        print('ประถม\\nชั้นเหี้ยไรไม่รู้แหละ')\n",
    "else:\n",
    "    print('ม.ปลาย')"
   ]
  },
  {
   "cell_type": "code",
   "execution_count": 27,
   "metadata": {},
   "outputs": [],
   "source": [
    "#if ให้ทำงานผ่านไปก่อน\n",
    "age = int(input('ป้อนอายุของคุณ : '))\n",
    "if age <= 15:\n",
    "    if age == 15:\n",
    "        pass #enter 15 แล้วไม่มีไรเกิดขึ้น\n",
    "    elif age == 14:\n",
    "        print('ม.2')\n",
    "    elif age == 13:\n",
    "        print('ม.1')\n",
    "    else:\n",
    "        print('ประถม\\nชั้นเหี้ยไรไม่รู้แหละ')\n",
    "else:\n",
    "    print('ม.ปลาย')"
   ]
  },
  {
   "cell_type": "code",
   "execution_count": 34,
   "metadata": {},
   "outputs": [
    {
     "name": "stdout",
     "output_type": "stream",
     "text": [
      "100 มากกว่า 50\n"
     ]
    }
   ],
   "source": [
    "#Ex.03 หาตัวเลขมากหรือน้อย\n",
    "a = int(input('ป้อนตัวเลขตัวแรก : '))\n",
    "b = int(input('ป้อนตัวเลขตัวที่สอง : '))\n",
    "if a > b:\n",
    "    print(f'{a} มากกว่า {b}')\n",
    "else:\n",
    "    print(f'{b} มากกว่า {a}')"
   ]
  },
  {
   "cell_type": "code",
   "execution_count": 39,
   "metadata": {},
   "outputs": [
    {
     "name": "stdout",
     "output_type": "stream",
     "text": [
      "15 เป็นเลขคี่\n"
     ]
    }
   ],
   "source": [
    "#EX.04 หาเลขคู่หรือคี่\n",
    "num = int(input('ป้อนตัวเลขของคุณ : '))\n",
    "if num % 2 == 0 :\n",
    "    print(num,'เป็นเลขคู่')\n",
    "else:\n",
    "    print(num,'เป็นเลขคี่')"
   ]
  },
  {
   "cell_type": "code",
   "execution_count": 43,
   "metadata": {},
   "outputs": [
    {
     "name": "stdout",
     "output_type": "stream",
     "text": [
      "ได้แบงค์ 1000 บาท 8 ใบ\n",
      "แบงค์ 500 บาท 1 ใบ\n",
      "แบงค์ 100 บาท 3 ใบ\n",
      "แบงค์ 50 บาท 1 ใบ\n",
      "แบงค์ 20 บาท 1 ใบ\n",
      "เหรียญ 10 บาท 1 เหรียญ\n",
      "เหรียญ 5 บาท 1 เหรียญ\n",
      "เหรียญ 2 บาท 1 เหรียญ\n",
      "เหรียญ 1 บาท 1 เหรียญ\n"
     ]
    }
   ],
   "source": [
    "#EX.05 โปรแกรมทอนตังค์\n",
    "money = int(input('โปรดใส่จำนวนเงิน : '))\n",
    "if money >= 1000:\n",
    "    print(f'ได้แบงค์ 1000 บาท {money//1000} ใบ')\n",
    "    money %= 1000\n",
    "\n",
    "if money >=500:\n",
    "    print(f'แบงค์ 500 บาท {money//500} ใบ')\n",
    "    money %= 500\n",
    "\n",
    "if money >=100:\n",
    "    print(f'แบงค์ 100 บาท {money//100} ใบ')\n",
    "    money %= 100\n",
    "\n",
    "if money >=50:\n",
    "    print(f'แบงค์ 50 บาท {money//50} ใบ')\n",
    "    money %= 50\n",
    "\n",
    "if money >=20:\n",
    "    print(f'แบงค์ 20 บาท {money//20} ใบ')\n",
    "    money %= 20\n",
    "\n",
    "if money >= 10:\n",
    "    print(f'เหรียญ 10 บาท {money//10} เหรียญ')\n",
    "    money %= 10\n",
    "\n",
    "if money >= 5:\n",
    "    print(f'เหรียญ 5 บาท {money//5} เหรียญ')\n",
    "    money %= 5\n",
    "\n",
    "if money >= 2:\n",
    "    print(f'เหรียญ 2 บาท {money//2} เหรียญ')\n",
    "    money %= 2\n",
    "\n",
    "if money >= 1:\n",
    "    print(f'เหรียญ 1 บาท {money//1} เหรียญ')\n",
    "    money %= 1"
   ]
  },
  {
   "cell_type": "code",
   "execution_count": 1,
   "metadata": {},
   "outputs": [
    {
     "name": "stdout",
     "output_type": "stream",
     "text": [
      "แปลงเป็น พ.ศ. เป็นปี 2543\n"
     ]
    }
   ],
   "source": [
    "#โปรแกรมแปลง ค.ศ และ พ.ศ\n",
    "num = int(input('ป้อน ค.ศ :'))+543\n",
    "print(f'แปลงเป็น พ.ศ. เป็นปี {num}')"
   ]
  },
  {
   "cell_type": "code",
   "execution_count": 2,
   "metadata": {},
   "outputs": [
    {
     "name": "stdout",
     "output_type": "stream",
     "text": [
      "แปลงเป็น ค.ศ. เป็นปี 2020\n"
     ]
    }
   ],
   "source": [
    "#โปรแกรมแปลง พ.ศ และ ค.ศ\n",
    "num = int(input('ป้อน พ.ศ :'))-543\n",
    "print(f'แปลงเป็น ค.ศ. เป็นปี {num}')"
   ]
  },
  {
   "cell_type": "code",
   "execution_count": 4,
   "metadata": {},
   "outputs": [
    {
     "name": "stdout",
     "output_type": "stream",
     "text": [
      "ค่า bmi ของคุณอยู่ที่ = 29.76086271489094\n",
      "โรคอ้วนระดับที่ 1\n"
     ]
    }
   ],
   "source": [
    "#Ex.06 โปรแกรมคำนวณค่า BMI เพิ่มประสิทธิภาพ\n",
    "weight = int(input('Enter your weight : '))\n",
    "high = int(input('Enter your high (cm) : '))/100\n",
    "bmi = weight/(high**2)\n",
    "print(f'ค่า bmi ของคุณอยู่ที่ = {bmi}')\n",
    "if bmi <18:\n",
    "    print('ต่ำกว่าเกณฑ์')\n",
    "if bmi >= 18.5 and bmi <= 22.9:\n",
    "    print('สมส่วน')\n",
    "if bmi >= 23.0 and bmi <= 24.9:\n",
    "    print('น้ำหนักเกิน')\n",
    "if bmi >= 25.0 and bmi <= 29.9:\n",
    "    print('โรคอ้วนระดับที่ 1')\n",
    "if bmi >= 30:\n",
    "    print('โรคอ้วนอันตราย')\n"
   ]
  },
  {
   "cell_type": "code",
   "execution_count": null,
   "metadata": {},
   "outputs": [],
   "source": [
    "#เจาะลึก string\n",
    "print('หมะแอ้ว')"
   ]
  }
 ],
 "metadata": {
  "kernelspec": {
   "display_name": "Python 3",
   "language": "python",
   "name": "python3"
  },
  "language_info": {
   "codemirror_mode": {
    "name": "ipython",
    "version": 3
   },
   "file_extension": ".py",
   "mimetype": "text/x-python",
   "name": "python",
   "nbconvert_exporter": "python",
   "pygments_lexer": "ipython3",
   "version": "3.12.3"
  }
 },
 "nbformat": 4,
 "nbformat_minor": 2
}
